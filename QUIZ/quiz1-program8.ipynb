{
 "cells": [
  {
   "cell_type": "code",
   "execution_count": 33,
   "id": "d3153549",
   "metadata": {},
   "outputs": [],
   "source": [
    "import csv"
   ]
  },
  {
   "cell_type": "code",
   "execution_count": 34,
   "id": "eab9f4d6",
   "metadata": {},
   "outputs": [],
   "source": [
    "header=[\"name\",\"contact\"]\n",
    "\n",
    "data = [[\"om\", \"9316203288\"],\n",
    "        [\"sai\",\"8767564567\"],\n",
    "        [\"ram\", \"8967567890\"]]\n",
    "filename = \"Contacts.csv\""
   ]
  },
  {
   "cell_type": "code",
   "execution_count": 35,
   "id": "cf6e292c",
   "metadata": {},
   "outputs": [],
   "source": [
    "with open('filename','w',newline='') as f:\n",
    "    k=csv.writer(f,delimiter='|')\n",
    "    k.writerow(header)\n",
    "    k.writerows(data)"
   ]
  },
  {
   "cell_type": "code",
   "execution_count": 36,
   "id": "96cc3577",
   "metadata": {},
   "outputs": [
    {
     "name": "stdout",
     "output_type": "stream",
     "text": [
      "['name', 'contact']\n",
      "['om', '9316203288']\n",
      "['sai', '8767564567']\n",
      "['ram', '8967567890']\n"
     ]
    }
   ],
   "source": [
    "with open('filename','r') as r:\n",
    "    s=csv.reader(r,delimiter='|')\n",
    "    for i in s:     \n",
    "        print(i)  "
   ]
  },
  {
   "cell_type": "code",
   "execution_count": null,
   "id": "6e915264",
   "metadata": {},
   "outputs": [],
   "source": []
  }
 ],
 "metadata": {
  "kernelspec": {
   "display_name": "Python 3 (ipykernel)",
   "language": "python",
   "name": "python3"
  },
  "language_info": {
   "codemirror_mode": {
    "name": "ipython",
    "version": 3
   },
   "file_extension": ".py",
   "mimetype": "text/x-python",
   "name": "python",
   "nbconvert_exporter": "python",
   "pygments_lexer": "ipython3",
   "version": "3.11.4"
  }
 },
 "nbformat": 4,
 "nbformat_minor": 5
}
